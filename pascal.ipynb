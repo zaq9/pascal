{
  "nbformat": 4,
  "nbformat_minor": 0,
  "metadata": {
    "colab": {
      "name": "pascal",
      "version": "0.3.2",
      "provenance": [],
      "collapsed_sections": [],
      "include_colab_link": true
    },
    "kernelspec": {
      "name": "python3",
      "display_name": "Python 3"
    }
  },
  "cells": [
    {
      "cell_type": "markdown",
      "metadata": {
        "id": "view-in-github",
        "colab_type": "text"
      },
      "source": [
        "<a href=\"https://colab.research.google.com/github/zaq9/pascal/blob/master/pascal.ipynb\" target=\"_parent\"><img src=\"https://colab.research.google.com/assets/colab-badge.svg\" alt=\"Open In Colab\"/></a>"
      ]
    },
    {
      "metadata": {
        "id": "Dc75d7TI8P2J",
        "colab_type": "code",
        "colab": {}
      },
      "cell_type": "code",
      "source": [
        "#パスカルの三角形の漸化式\n",
        "def c(n,k): \n",
        "  return 1 if(k<=0 or n<=k) else c(n-1, k-1) + c(n-1, k)"
      ],
      "execution_count": 0,
      "outputs": []
    },
    {
      "metadata": {
        "id": "MPOn3yzcnM3n",
        "colab_type": "code",
        "colab": {
          "base_uri": "https://localhost:8080/",
          "height": 195
        },
        "outputId": "765fd566-d5ce-45ff-84d4-699f23f09b62"
      },
      "cell_type": "code",
      "source": [
        "# 表示（１０段まで）\n",
        "for i in range(10):\n",
        "  print([c(i,j) for j in range(i+1)])"
      ],
      "execution_count": 32,
      "outputs": [
        {
          "output_type": "stream",
          "text": [
            "[1]\n",
            "[1, 1]\n",
            "[1, 2, 1]\n",
            "[1, 3, 3, 1]\n",
            "[1, 4, 6, 4, 1]\n",
            "[1, 5, 10, 10, 5, 1]\n",
            "[1, 6, 15, 20, 15, 6, 1]\n",
            "[1, 7, 21, 35, 35, 21, 7, 1]\n",
            "[1, 8, 28, 56, 70, 56, 28, 8, 1]\n",
            "[1, 9, 36, 84, 126, 126, 84, 36, 9, 1]\n"
          ],
          "name": "stdout"
        }
      ]
    },
    {
      "metadata": {
        "id": "Fw07kl7pDxRq",
        "colab_type": "code",
        "outputId": "bfd1ad9e-0da9-4d84-b41b-cda28aa57f2e",
        "colab": {
          "base_uri": "https://localhost:8080/",
          "height": 195
        }
      },
      "cell_type": "code",
      "source": [
        "#表示アレンジ（リストから文字列表示へ＋剰余利用）\n",
        "for i in range(10):\n",
        "  print(' '.join([ str(c(i,j)%4) for j in range(i+1)]))"
      ],
      "execution_count": 33,
      "outputs": [
        {
          "output_type": "stream",
          "text": [
            "1\n",
            "1 1\n",
            "1 2 1\n",
            "1 3 3 1\n",
            "1 0 2 0 1\n",
            "1 1 2 2 1 1\n",
            "1 2 3 0 3 2 1\n",
            "1 3 1 3 3 1 3 1\n",
            "1 0 0 0 2 0 0 0 1\n",
            "1 1 0 0 2 2 0 0 1 1\n"
          ],
          "name": "stdout"
        }
      ]
    },
    {
      "metadata": {
        "id": "eVheK60mkTIP",
        "colab_type": "code",
        "colab": {
          "base_uri": "https://localhost:8080/",
          "height": 372
        },
        "outputId": "aa04fbc9-b334-4a88-e76d-e85360a901c0"
      },
      "cell_type": "code",
      "source": [
        "#表示アレンジ２（絵文字を使い２０段まで）\n",
        "\n",
        "e = ['🍈','🍎','🍇','🍊']\n",
        "for i in range(20):\n",
        "  print(' '.join([ str(e[c(i,j)%4]) for j in range(i+1)]))"
      ],
      "execution_count": 34,
      "outputs": [
        {
          "output_type": "stream",
          "text": [
            "🍎\n",
            "🍎 🍎\n",
            "🍎 🍇 🍎\n",
            "🍎 🍊 🍊 🍎\n",
            "🍎 🍈 🍇 🍈 🍎\n",
            "🍎 🍎 🍇 🍇 🍎 🍎\n",
            "🍎 🍇 🍊 🍈 🍊 🍇 🍎\n",
            "🍎 🍊 🍎 🍊 🍊 🍎 🍊 🍎\n",
            "🍎 🍈 🍈 🍈 🍇 🍈 🍈 🍈 🍎\n",
            "🍎 🍎 🍈 🍈 🍇 🍇 🍈 🍈 🍎 🍎\n",
            "🍎 🍇 🍎 🍈 🍇 🍈 🍇 🍈 🍎 🍇 🍎\n",
            "🍎 🍊 🍊 🍎 🍇 🍇 🍇 🍇 🍎 🍊 🍊 🍎\n",
            "🍎 🍈 🍇 🍈 🍊 🍈 🍈 🍈 🍊 🍈 🍇 🍈 🍎\n",
            "🍎 🍎 🍇 🍇 🍊 🍊 🍈 🍈 🍊 🍊 🍇 🍇 🍎 🍎\n",
            "🍎 🍇 🍊 🍈 🍎 🍇 🍊 🍈 🍊 🍇 🍎 🍈 🍊 🍇 🍎\n",
            "🍎 🍊 🍎 🍊 🍎 🍊 🍎 🍊 🍊 🍎 🍊 🍎 🍊 🍎 🍊 🍎\n",
            "🍎 🍈 🍈 🍈 🍈 🍈 🍈 🍈 🍇 🍈 🍈 🍈 🍈 🍈 🍈 🍈 🍎\n",
            "🍎 🍎 🍈 🍈 🍈 🍈 🍈 🍈 🍇 🍇 🍈 🍈 🍈 🍈 🍈 🍈 🍎 🍎\n",
            "🍎 🍇 🍎 🍈 🍈 🍈 🍈 🍈 🍇 🍈 🍇 🍈 🍈 🍈 🍈 🍈 🍎 🍇 🍎\n",
            "🍎 🍊 🍊 🍎 🍈 🍈 🍈 🍈 🍇 🍇 🍇 🍇 🍈 🍈 🍈 🍈 🍎 🍊 🍊 🍎\n"
          ],
          "name": "stdout"
        }
      ]
    }
  ]
}